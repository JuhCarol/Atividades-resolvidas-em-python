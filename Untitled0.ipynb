{
  "nbformat": 4,
  "nbformat_minor": 0,
  "metadata": {
    "colab": {
      "provenance": [],
      "toc_visible": true,
      "authorship_tag": "ABX9TyPjbaVNRUy6CpAcEnyfhC84",
      "include_colab_link": true
    },
    "kernelspec": {
      "name": "python3",
      "display_name": "Python 3"
    },
    "language_info": {
      "name": "python"
    }
  },
  "cells": [
    {
      "cell_type": "markdown",
      "metadata": {
        "id": "view-in-github",
        "colab_type": "text"
      },
      "source": [
        "<a href=\"https://colab.research.google.com/github/JuhCarol/Atividades-resolvidas-em-python/blob/main/Untitled0.ipynb\" target=\"_parent\"><img src=\"https://colab.research.google.com/assets/colab-badge.svg\" alt=\"Open In Colab\"/></a>"
      ]
    },
    {
      "cell_type": "code",
      "source": [
        "# Instale as bibliotecas necessárias\n",
        "!pip install requests beautifulsoup4"
      ],
      "metadata": {
        "colab": {
          "base_uri": "https://localhost:8080/"
        },
        "id": "mcGH9S096_D0",
        "outputId": "880cab5e-294c-4bca-ac33-8f4552c3ebe7"
      },
      "execution_count": null,
      "outputs": [
        {
          "output_type": "stream",
          "name": "stdout",
          "text": [
            "Requirement already satisfied: requests in /usr/local/lib/python3.10/dist-packages (2.32.3)\n",
            "Requirement already satisfied: beautifulsoup4 in /usr/local/lib/python3.10/dist-packages (4.12.3)\n",
            "Requirement already satisfied: charset-normalizer<4,>=2 in /usr/local/lib/python3.10/dist-packages (from requests) (3.4.0)\n",
            "Requirement already satisfied: idna<4,>=2.5 in /usr/local/lib/python3.10/dist-packages (from requests) (3.10)\n",
            "Requirement already satisfied: urllib3<3,>=1.21.1 in /usr/local/lib/python3.10/dist-packages (from requests) (2.2.3)\n",
            "Requirement already satisfied: certifi>=2017.4.17 in /usr/local/lib/python3.10/dist-packages (from requests) (2024.8.30)\n",
            "Requirement already satisfied: soupsieve>1.2 in /usr/local/lib/python3.10/dist-packages (from beautifulsoup4) (2.6)\n"
          ]
        }
      ]
    },
    {
      "cell_type": "code",
      "source": [
        "# Importar as bibliotecas necessárias\n",
        "import requests\n",
        "from bs4 import BeautifulSoup"
      ],
      "metadata": {
        "id": "Co_GQeAH8J9j"
      },
      "execution_count": null,
      "outputs": []
    },
    {
      "cell_type": "code",
      "source": [
        "import requests\n",
        "from bs4 import BeautifulSoup\n",
        "\n",
        "# URL da página a ser acessada\n",
        "url = 'https://www.ogol.com.br/jogo/2024-11-27-palmeiras-botafogo/9986026'\n",
        "\n",
        "# Fazer a requisição HTTP para obter o HTML da página\n",
        "headers = {\n",
        "    'User-Agent': 'Mozilla/5.0 (Windows NT 10.0; Win64; x64) AppleWebKit/537.36 (KHTML, like Gecko) Chrome/114.0.0.0 Safari/537.36'\n",
        "}\n",
        "response = requests.get(url, headers=headers)\n",
        "\n",
        "# Verificar se a página foi carregada com sucesso\n",
        "if response.status_code == 200:\n",
        "    html_content = response.content\n",
        "else:\n",
        "    print(f\"Erro ao carregar a página: {response.status_code}\")\n",
        "    html_content = ''\n"
      ],
      "metadata": {
        "id": "JqOncaAF-Stw"
      },
      "execution_count": null,
      "outputs": []
    },
    {
      "cell_type": "code",
      "source": [
        "# Analise o conteúdo HTML\n",
        "if html_content:\n",
        "    soup = BeautifulSoup(html_content, 'html.parser')\n",
        "\n",
        "    # Extraia o conteúdo entre <div class=\"info\"> e <div class=\"clearfix\"></div>\n",
        "    info_div = soup.find('div', class_='info')\n",
        "    clearfix_div = soup.find('div', class_='clearfix')\n",
        "\n",
        "    if info_div and clearfix_div:\n",
        "        extracted_content = ''\n",
        "        current_tag = info_div\n",
        "        while current_tag and current_tag != clearfix_div:\n",
        "            extracted_content += str(current_tag)\n",
        "            current_tag = current_tag.next_sibling\n",
        "\n",
        "        print(extracted_content)\n",
        "    else:\n",
        "        print(\"As tags especificadas não foram encontradas.\")\n"
      ],
      "metadata": {
        "colab": {
          "base_uri": "https://localhost:8080/"
        },
        "id": "h_JMfhVp-WzS",
        "outputId": "7b470dc2-16c0-44bf-f5ce-5661eb2f56cf"
      },
      "execution_count": null,
      "outputs": [
        {
          "output_type": "stream",
          "name": "stdout",
          "text": [
            "<div class=\"info\"><div class=\"header\" id=\"match_data\" style=\"line-height:1.5;font-size:12px;color:rgb(255,255,255) !important;\"><i class=\"fa-regular fa-calendar\"></i>Terça 26 Novembro 2024<i class=\"fa-regular fa-clock\"></i>21h30<i class=\"fa-solid fa-location-dot\"></i><a href=\"/estadio.php?id=17268\" style=\"color:rgb(255,255,255) !important;\">Allianz Parque (Arena Palestra Itália) (BRA)</a> (São Paulo)<br/><i class=\"fa-solid fa-tv\"></i>Globo<i class=\"fa-regular fa-user\"></i><a href=\"/arbitro/wilton-pereira-sampaio/2585\" style=\"color:rgb(255,255,255) !important;\"> Wilton Pereira Sampaio (BRA)</a><br/><a href=\"/edicao/brasileirao-serie-a-2024/184443\" style=\"color:rgb(255,255,255) !important;\">Brasileirão Série A 2024</a> - Campeonato  - Rodada 36</div><div class=\"content\"><div class=\"home\"><div class=\"team\"><a href=\"/equipe/palmeiras?epoca_id=153\" style=\"color:rgb(255,255,255) !important;\">Palmeiras <span style=\"font-size:16px;font-weight:normal;\"></span></a></div><div class=\"scorers\"><span><span><span><span class=\"time\" style=\"color:rgb(255,255,255) !important;\"> 90+3</span> <a href=\"/jogador/richard-rios/744267\" style=\"color:rgb(255,255,255) !important;\">Richard Ríos</a></span></span></span></div></div><div class=\"score\"><div style=\"\"><a href=\"/jogo/2024-11-27-palmeiras-botafogo/9986026\" style=\"color:rgb(255,255,255) !important;\">1-3</a></div><span partial\"=\"\" style=\"color:rgb(255,255,255) !important;\">Intervalo: 0-1</span></div><div class=\"away\"><div class=\"team\"><a href=\"/equipe/botafogo?epoca_id=153\" style=\"color:rgb(255,255,255) !important;\">Botafogo <span style=\"font-size:16px;font-weight:normal;\"></span></a></div><div class=\"scorers\"><span><span><span><a href=\"/jogador/gregore/297195\" style=\"color:rgb(255,255,255) !important;\">Gregore</a> <span class=\"time\" style=\"color:rgb(255,255,255) !important;\"> 19</span></span><span><a href=\"/jogador/jefferson-savarino/312911\" style=\"color:rgb(255,255,255) !important;\">Jefferson Savarino</a> <span class=\"time\" style=\"color:rgb(255,255,255) !important;\"> 73</span></span><span><a href=\"/jogador/adryelson/451642\" style=\"color:rgb(255,255,255) !important;\">Adryelson</a> <span class=\"time\" style=\"color:rgb(255,255,255) !important;\"> 89</span></span></span></span></div></div></div></div><div id=\"logo_away\" style=\"height:170px;position:relative;top:0px;float:left;\"><div class=\"profile_picture\" style=\"width:150px;height:150px;\"><div class=\"logo\"><a href=\"/equipe/botafogo?epoca_id=153\"><img alt=\"Botafogo\" border=\"0\" height=\"142\" src=\"https://www.zerozero.pt/img/logos/equipas/2233_imgbank_1683624192.png\" title=\"Botafogo\" width=\"142\"/></a></div></div></div>\n"
          ]
        }
      ]
    },
    {
      "cell_type": "code",
      "source": [
        "import requests\n",
        "from bs4 import BeautifulSoup\n",
        "\n",
        "# URL da página a ser acessada\n",
        "url = 'https://www.ogol.com.br/jogo/2024-11-27-palmeiras-botafogo/9986026'\n",
        "\n",
        "# Fazer a requisição HTTP para obter o HTML da página\n",
        "headers = {\n",
        "    'User-Agent': 'Mozilla/5.0 (Windows NT 10.0; Win64; x64) AppleWebKit/537.36 (KHTML, like Gecko) Chrome/114.0.0.0 Safari/537.36'\n",
        "}\n",
        "response = requests.get(url, headers=headers)\n",
        "\n",
        "# Verificar se a página foi carregada com sucesso\n",
        "if response.status_code == 200:\n",
        "    html_content = response.content\n",
        "\n",
        "    # Analise o conteúdo HTML\n",
        "    soup = BeautifulSoup(html_content, 'html.parser')\n",
        "\n",
        "    # Extraia o conteúdo entre <div class=\"info\"> e <div class=\"clearfix\"></div>\n",
        "    info_div = soup.find('div', class_='info')\n",
        "    clearfix_div = soup.find('div', class_='clearfix')\n",
        "\n",
        "    if info_div and clearfix_div:\n",
        "        extracted_content = ''\n",
        "        current_tag = info_div\n",
        "        while current_tag and current_tag != clearfix_div:\n",
        "            extracted_content += str(current_tag)\n",
        "            current_tag = current_tag.next_sibling\n",
        "\n",
        "        print(\"Conteúdo extraído:\")\n",
        "        print(extracted_content)\n",
        "    else:\n",
        "        print(\"As tags especificadas não foram encontradas.\")\n",
        "else:\n",
        "    print(f\"Erro ao carregar a página: {response.status_code}\")\n"
      ],
      "metadata": {
        "colab": {
          "base_uri": "https://localhost:8080/"
        },
        "id": "KKTBoZgb-aJv",
        "outputId": "f0f299d1-859e-4bb3-98e7-1567fa927243"
      },
      "execution_count": null,
      "outputs": [
        {
          "output_type": "stream",
          "name": "stdout",
          "text": [
            "Conteúdo extraído:\n",
            "<div class=\"info\"><div class=\"header\" id=\"match_data\" style=\"line-height:1.5;font-size:12px;color:rgb(255,255,255) !important;\"><i class=\"fa-regular fa-calendar\"></i>Terça 26 Novembro 2024<i class=\"fa-regular fa-clock\"></i>21h30<i class=\"fa-solid fa-location-dot\"></i><a href=\"/estadio.php?id=17268\" style=\"color:rgb(255,255,255) !important;\">Allianz Parque (Arena Palestra Itália) (BRA)</a> (São Paulo)<br/><i class=\"fa-solid fa-tv\"></i>Globo<i class=\"fa-regular fa-user\"></i><a href=\"/arbitro/wilton-pereira-sampaio/2585\" style=\"color:rgb(255,255,255) !important;\"> Wilton Pereira Sampaio (BRA)</a><br/><a href=\"/edicao/brasileirao-serie-a-2024/184443\" style=\"color:rgb(255,255,255) !important;\">Brasileirão Série A 2024</a> - Campeonato  - Rodada 36</div><div class=\"content\"><div class=\"home\"><div class=\"team\"><a href=\"/equipe/palmeiras?epoca_id=153\" style=\"color:rgb(255,255,255) !important;\">Palmeiras <span style=\"font-size:16px;font-weight:normal;\"></span></a></div><div class=\"scorers\"><span><span><span><span class=\"time\" style=\"color:rgb(255,255,255) !important;\"> 90+3</span> <a href=\"/jogador/richard-rios/744267\" style=\"color:rgb(255,255,255) !important;\">Richard Ríos</a></span></span></span></div></div><div class=\"score\"><div style=\"\"><a href=\"/jogo/2024-11-27-palmeiras-botafogo/9986026\" style=\"color:rgb(255,255,255) !important;\">1-3</a></div><span partial\"=\"\" style=\"color:rgb(255,255,255) !important;\">Intervalo: 0-1</span></div><div class=\"away\"><div class=\"team\"><a href=\"/equipe/botafogo?epoca_id=153\" style=\"color:rgb(255,255,255) !important;\">Botafogo <span style=\"font-size:16px;font-weight:normal;\"></span></a></div><div class=\"scorers\"><span><span><span><a href=\"/jogador/gregore/297195\" style=\"color:rgb(255,255,255) !important;\">Gregore</a> <span class=\"time\" style=\"color:rgb(255,255,255) !important;\"> 19</span></span><span><a href=\"/jogador/jefferson-savarino/312911\" style=\"color:rgb(255,255,255) !important;\">Jefferson Savarino</a> <span class=\"time\" style=\"color:rgb(255,255,255) !important;\"> 73</span></span><span><a href=\"/jogador/adryelson/451642\" style=\"color:rgb(255,255,255) !important;\">Adryelson</a> <span class=\"time\" style=\"color:rgb(255,255,255) !important;\"> 89</span></span></span></span></div></div></div></div><div id=\"logo_away\" style=\"height:170px;position:relative;top:0px;float:left;\"><div class=\"profile_picture\" style=\"width:150px;height:150px;\"><div class=\"logo\"><a href=\"/equipe/botafogo?epoca_id=153\"><img alt=\"Botafogo\" border=\"0\" height=\"142\" src=\"https://www.zerozero.pt/img/logos/equipas/2233_imgbank_1683624192.png\" title=\"Botafogo\" width=\"142\"/></a></div></div></div>\n"
          ]
        }
      ]
    },
    {
      "cell_type": "code",
      "source": [
        "import requests\n",
        "from bs4 import BeautifulSoup\n",
        "\n",
        "# URL da página a ser acessada\n",
        "url = 'https://www.ogol.com.br/jogo/2024-11-27-palmeiras-botafogo/9986026'\n",
        "\n",
        "# Fazer a requisição HTTP para obter o HTML da página\n",
        "headers = {\n",
        "    'User-Agent': 'Mozilla/5.0 (Windows NT 10.0; Win64; x64) AppleWebKit/537.36 (KHTML, like Gecko) Chrome/114.0.0.0 Safari/537.36'\n",
        "}\n",
        "response = requests.get(url, headers=headers)\n",
        "\n",
        "# Verificar se a página foi carregada com sucesso\n",
        "if response.status_code == 200:\n",
        "    html_content = response.content\n",
        "\n",
        "    # Analisar o conteúdo HTML\n",
        "    soup = BeautifulSoup(html_content, 'html.parser')\n",
        "\n",
        "    # Encontrar a div com a classe \"info\"\n",
        "    info_div = soup.find('div', class_='info')\n",
        "\n",
        "    if info_div:\n",
        "        # Limpar o texto e exibir apenas informações relevantes\n",
        "        game_info = {}\n",
        "\n",
        "        # Data e horário\n",
        "        match_date = info_div.find('i', class_='fa-regular fa-calendar')\n",
        "        match_time = info_div.find('i', class_='fa-regular fa-clock')\n",
        "        if match_date and match_time:\n",
        "            game_info['Data e Horário'] = match_date.next_sibling.strip() + \" \" + match_time.next_sibling.strip()\n",
        "\n",
        "        # Local do jogo\n",
        "        location = info_div.find('i', class_='fa-solid fa-location-dot')\n",
        "        if location:\n",
        "            game_info['Local'] = location.next_sibling.next_sibling.get_text(strip=True)\n",
        "\n",
        "        # Árbitro\n",
        "        referee = info_div.find('i', class_='fa-regular fa-user')\n",
        "        if referee:\n",
        "            game_info['Árbitro'] = referee.next_sibling.next_sibling.get_text(strip=True)\n",
        "\n",
        "        # Campeonato e rodada\n",
        "        championship = info_div.find('a', href=True, text=True)\n",
        "        if championship:\n",
        "            game_info['Campeonato'] = championship.get_text(strip=True)\n",
        "\n",
        "        # Times e placar\n",
        "        home_team = info_div.select_one('.home .team a')\n",
        "        away_team = info_div.select_one('.away .team a')\n",
        "        score = info_div.select_one('.score a')\n",
        "        if home_team and away_team and score:\n",
        "            game_info['Placar'] = f\"{home_team.get_text(strip=True)} {score.get_text(strip=True)} {away_team.get_text(strip=True)}\"\n",
        "\n",
        "        # Goleadores\n",
        "        home_scorers = [scorer.get_text(strip=True) for scorer in info_div.select('.home .scorers a')]\n",
        "        away_scorers = [scorer.get_text(strip=True) for scorer in info_div.select('.away .scorers a')]\n",
        "        if home_scorers:\n",
        "            game_info['Goleadores Mandante'] = home_scorers\n",
        "        if away_scorers:\n",
        "            game_info['Goleadores Visitante'] = away_scorers\n",
        "\n",
        "        # Exibir as informações relevantes\n",
        "        print(\"Informações relevantes do jogo:\")\n",
        "        for key, value in game_info.items():\n",
        "            print(f\"{key}: {value}\")\n",
        "    else:\n",
        "        print(\"A div 'info' não foi encontrada.\")\n",
        "else:\n",
        "    print(f\"Erro ao carregar a página: {response.status_code}\")\n"
      ],
      "metadata": {
        "colab": {
          "base_uri": "https://localhost:8080/"
        },
        "id": "HSZsJ13q_A6w",
        "outputId": "dfbc94b7-1f37-4d6b-c243-7b6bbe55bf35"
      },
      "execution_count": null,
      "outputs": [
        {
          "output_type": "stream",
          "name": "stdout",
          "text": [
            "Informações relevantes do jogo:\n",
            "Data e Horário: Terça 26 Novembro 2024 21h30\n",
            "Local: (São Paulo)\n",
            "Árbitro: \n",
            "Campeonato: Allianz Parque (Arena Palestra Itália) (BRA)\n",
            "Placar: Palmeiras 1-3 Botafogo\n",
            "Goleadores Mandante: ['Richard Ríos']\n",
            "Goleadores Visitante: ['Gregore', 'Jefferson Savarino', 'Adryelson']\n"
          ]
        },
        {
          "output_type": "stream",
          "name": "stderr",
          "text": [
            "<ipython-input-12-159636cc0887>:44: DeprecationWarning: The 'text' argument to find()-type methods is deprecated. Use 'string' instead.\n",
            "  championship = info_div.find('a', href=True, text=True)\n"
          ]
        }
      ]
    },
    {
      "cell_type": "code",
      "source": [
        "import requests\n",
        "from bs4 import BeautifulSoup\n",
        "\n",
        "# URL da página do jogo\n",
        "url = 'https://www.ogol.com.br/jogo/2024-11-27-palmeiras-botafogo/9986026'\n",
        "\n",
        "# Configuração do cabeçalho para simular um navegador\n",
        "headers = {\n",
        "    'User-Agent': 'Mozilla/5.0 (Windows NT 10.0; Win64; x64) AppleWebKit/537.36 (KHTML, like Gecko) Chrome/114.0.0.0 Safari/537.36'\n",
        "}\n",
        "\n",
        "# Requisição à página\n",
        "response = requests.get(url, headers=headers)\n",
        "\n",
        "# Verificar se a página foi carregada com sucesso\n",
        "if response.status_code == 200:\n",
        "    html_content = response.content\n",
        "    soup = BeautifulSoup(html_content, 'html.parser')\n",
        "\n",
        "    # Extração de informações básicas\n",
        "    info_div = soup.find('div', class_='info')\n",
        "    game_info = {}\n",
        "\n",
        "    if info_div:\n",
        "        # Data e hora\n",
        "        match_date = info_div.find('i', class_='fa-regular fa-calendar')\n",
        "        match_time = info_div.find('i', class_='fa-regular fa-clock')\n",
        "        if match_date and match_time:\n",
        "            game_info['Data e Horário'] = match_date.next_sibling.strip() + \" \" + match_time.next_sibling.strip()\n",
        "\n",
        "        # Localização\n",
        "        location = info_div.find('i', class_='fa-solid fa-location-dot')\n",
        "        if location:\n",
        "            game_info['Local'] = location.next_sibling.next_sibling.get_text(strip=True)\n",
        "\n",
        "        # Árbitro\n",
        "        referee = info_div.find('i', class_='fa-regular fa-user')\n",
        "        if referee:\n",
        "            game_info['Árbitro'] = referee.next_sibling.next_sibling.get_text(strip=True)\n",
        "\n",
        "        # Placar e equipes\n",
        "        home_team = info_div.select_one('.home .team a')\n",
        "        away_team = info_div.select_one('.away .team a')\n",
        "        score = info_div.select_one('.score a')\n",
        "        if home_team and away_team and score:\n",
        "            game_info['Placar'] = f\"{home_team.get_text(strip=True)} {score.get_text(strip=True)} {away_team.get_text(strip=True)}\"\n",
        "\n",
        "        # Exibir informações básicas\n",
        "        print(\"Informações básicas do jogo:\")\n",
        "        for key, value in game_info.items():\n",
        "            print(f\"{key}: {value}\")\n",
        "    else:\n",
        "        print(\"As informações básicas não foram encontradas.\")\n",
        "\n",
        "    # Extração de estatísticas do jogo\n",
        "stats_div = soup.find('div', class_='rbbox nofooter')\n",
        "if stats_div:\n",
        "    print(\"\\nEstatísticas do jogo:\")\n",
        "    # Procurar todas as seções de estatísticas\n",
        "    stats_boxes = stats_div.find_all('div', class_='box')\n",
        "    for stat in stats_boxes:\n",
        "        # Buscar o nome da estatística (ex.: Posse de Bola, Chutes, etc.)\n",
        "        header = stat.find('div', class_='verysmallheader')\n",
        "        if header:\n",
        "            stat_name = header.get_text(strip=True)  # Nome da estatística\n",
        "            # Procurar os valores (mandante e visitante)\n",
        "            values = stat.find_all('div', title=True)  # Buscar pelos títulos (que contêm os números)\n",
        "            if len(values) >= 2:  # Garantir que temos pelo menos dois valores (mandante e visitante)\n",
        "                home_value = values[0].get_text(strip=True)\n",
        "                away_value = values[-1].get_text(strip=True)\n",
        "                print(f\"{stat_name}: Mandante {home_value} - Visitante {away_value}\")\n",
        "else:\n",
        "    print(\"\\nEstatísticas do jogo não encontradas.\")\n"
      ],
      "metadata": {
        "colab": {
          "base_uri": "https://localhost:8080/"
        },
        "id": "Ee_VgeQa_RDN",
        "outputId": "11f4ba6f-b9aa-4099-86fb-c8679dbd599f"
      },
      "execution_count": null,
      "outputs": [
        {
          "output_type": "stream",
          "name": "stdout",
          "text": [
            "Informações básicas do jogo:\n",
            "Data e Horário: Terça 26 Novembro 2024 21h30\n",
            "Local: (São Paulo)\n",
            "Árbitro: \n",
            "Placar: Palmeiras 1-3 Botafogo\n",
            "\n",
            "Estatísticas do jogo:\n",
            "Posse de Bola: Mandante 55 % - Visitante 45 %\n",
            "Chutes: Mandante 19 - Visitante 13\n",
            "Lançamentos: Mandante 26 - Visitante 12\n",
            "Passes Certos: Mandante 312 - Visitante 252\n",
            "Divididas ganhas: Mandante 23 - Visitante 16\n",
            "Faltas: Mandante 9 - Visitante 16\n",
            "Total Cortes: Mandante 82 - Visitante 86\n",
            "Chutes a gol: Mandante 5 - Visitante 7\n",
            "Chutes Fora: Mandante 9 - Visitante 2\n",
            "Escanteios: Mandante 5 - Visitante 7\n",
            "Tiros de meta: Mandante 5 - Visitante 11\n",
            "Chutes bloqueados: Mandante 6 - Visitante 4\n",
            "Defesas: Mandante 4 - Visitante 5\n",
            "Total Passes: Mandante 387 - Visitante 327\n",
            "Impedimentos: Mandante 0 - Visitante 1\n",
            "Expected Goals: Mandante 1,53 - Visitante 1,06\n",
            "Expected Goals on Target: Mandante 0,42 - Visitante 1,4\n",
            "Expected Points: Mandante 1,7 - Visitante 1,04\n",
            "Expected Goals Free Kicks: Mandante 0,08 - Visitante 0,06\n",
            "Expected Goals Corners: Mandante 0,44 - Visitante 0,14\n",
            "Expected Goals Non Penalty Goals: Mandante 1,53 - Visitante 1,06\n",
            "Expected Goals Set Play: Mandante 0,81 - Visitante 0,23\n",
            "Expected Goals Open Play: Mandante 0,71 - Visitante 0,83\n"
          ]
        }
      ]
    }
  ]
}